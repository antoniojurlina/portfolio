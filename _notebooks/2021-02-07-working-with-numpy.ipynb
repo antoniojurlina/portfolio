{
 "cells": [
  {
   "cell_type": "markdown",
   "metadata": {},
   "source": [
    "# \"Working with NumPy\"\n",
    "> \"Looking at Bangor preciptiation data using only NumPy and matplotlib.\"\n",
    "\n",
    "- toc: false\n",
    "- badges: true\n",
    "- comments: true\n",
    "- author: Antonio Jurlina\n",
    "- categories: [learning, python]"
   ]
  },
  {
   "cell_type": "code",
   "execution_count": 1,
   "metadata": {},
   "outputs": [],
   "source": [
    "import pandas as pd\n",
    "import numpy as np\n",
    "import matplotlib.pyplot as plt\n",
    "import os"
   ]
  },
  {
   "cell_type": "code",
   "execution_count": 2,
   "metadata": {},
   "outputs": [
    {
     "name": "stdout",
     "output_type": "stream",
     "text": [
      "(12, 10)\n"
     ]
    },
    {
     "data": {
      "text/plain": [
       "array([[3.47, 1.66, 1.95, 0.87, 3.18, 2.69, 2.38, 3.63, 5.53, 5.15],\n",
       "       [2.19, 2.19, 1.55, 2.04, 1.99, 2.2 , 3.89, 2.26, 2.99, 1.83],\n",
       "       [4.68, 4.5 , 1.4 , 2.05, 3.65, 1.45, 3.27, 2.07, 2.18, 1.94],\n",
       "       [2.24, 5.26, 3.99, 1.77, 2.28, 2.39, 2.58, 3.98, 4.77, 5.53],\n",
       "       [1.73, 3.51, 5.12, 4.56, 3.31, 2.32, 2.09, 6.36, 2.37, 4.43],\n",
       "       [4.38, 2.79, 7.05, 5.46, 3.59, 4.9 , 2.85, 4.32, 5.42, 5.33],\n",
       "       [2.15, 2.1 , 0.58, 3.74, 6.78, 1.16, 2.69, 1.91, 2.48, 4.46],\n",
       "       [1.89, 8.32, 2.6 , 4.69, 2.96, 2.63, 2.24, 1.64, 2.73, 7.54],\n",
       "       [5.73, 2.79, 6.33, 7.17, 0.89, 6.89, 1.23, 2.69, 2.63, 2.81],\n",
       "       [5.83, 5.16, 6.96, 1.02, 6.85, 2.58, 3.2 , 5.59, 4.66, 5.8 ],\n",
       "       [4.75, 2.19, 1.13, 3.76, 3.21, 2.26, 4.16, 3.05, 7.  , 3.97],\n",
       "       [5.47, 3.85, 3.59, 2.93, 5.23, 4.06, 3.77, 3.83, 4.23, 3.21]])"
      ]
     },
     "execution_count": 2,
     "metadata": {},
     "output_type": "execute_result"
    }
   ],
   "source": [
    "os.chdir('/Users/antoniojurlina/Projects/learning_python/data/')\n",
    "\n",
    "csv = \"BangorPrecip.csv\"\n",
    "bangorprecip = pd.read_csv(csv, index_col=0)\n",
    "\n",
    "months = bangorprecip.index.to_numpy()\n",
    "years = bangorprecip.columns.to_numpy()\n",
    "bangorprecip = bangorprecip.to_numpy()\n",
    "print(bangorprecip.shape)\n",
    "bangorprecip"
   ]
  },
  {
   "cell_type": "markdown",
   "metadata": {},
   "source": [
    "**1.\tWhat was the total cumulative precipitation over the ten years?**"
   ]
  },
  {
   "cell_type": "code",
   "execution_count": 5,
   "metadata": {},
   "outputs": [
    {
     "name": "stdout",
     "output_type": "stream",
     "text": [
      "Total cumulative precipitation over the ten years was 425.26 inches.\n"
     ]
    }
   ],
   "source": [
    "total_precip = np.sum(bangorprecip)\n",
    "print(\"Total cumulative precipitation over the ten years was\", total_precip, \"inches.\")"
   ]
  },
  {
   "cell_type": "markdown",
   "metadata": {},
   "source": [
    "**2.\tWhat was the driest year?**"
   ]
  },
  {
   "cell_type": "code",
   "execution_count": 8,
   "metadata": {},
   "outputs": [
    {
     "name": "stdout",
     "output_type": "stream",
     "text": [
      "The driest year was 2016 with a total of 34.35 inches of precipitation.\n"
     ]
    }
   ],
   "source": [
    "yearly_totals = bangorprecip.sum(0)\n",
    "precip = float(yearly_totals[yearly_totals == yearly_totals.min()])\n",
    "year = int(years[yearly_totals == yearly_totals.min()])\n",
    "print(\"The driest year was\", year, \"with a total of\", precip, \"inches of precipitation.\")\n",
    "\n"
   ]
  },
  {
   "cell_type": "markdown",
   "metadata": {},
   "source": [
    "**3.\tWhat are the yearly precipitation means?**"
   ]
  },
  {
   "cell_type": "code",
   "execution_count": 6,
   "metadata": {},
   "outputs": [
    {
     "data": {
      "image/png": "[encoded data removed]",
      "text/plain": [
       "<Figure size 432x288 with 1 Axes>"
      ]
     },
     "metadata": {},
     "output_type": "display_data"
    }
   ],
   "source": [
    "averages = bangorprecip.mean(0)\n",
    "\n",
    "%matplotlib inline\n",
    "plt.style.use('ggplot')\n",
    "\n",
    "plt.bar(years, averages)\n",
    "plt.title(\"Average yearly precipitation\")\n",
    "plt.ylabel(\"Inches\")\n",
    "\n",
    "plt.show()"
   ]
  },
  {
   "cell_type": "markdown",
   "metadata": {},
   "source": [
    "**4. What are the monthly min, mean, and max values over the ten years?**"
   ]
  },
  {
   "cell_type": "code",
   "execution_count": 7,
   "metadata": {},
   "outputs": [
    {
     "data": {
      "image/png": "[encoded data removed]",
      "text/plain": [
       "<Figure size 432x288 with 1 Axes>"
      ]
     },
     "metadata": {},
     "output_type": "display_data"
    }
   ],
   "source": [
    "mins = bangorprecip.min(1)\n",
    "means = bangorprecip.mean(1)\n",
    "maxs = bangorprecip.max(1)\n",
    "\n",
    "%matplotlib inline\n",
    "plt.style.use('ggplot')\n",
    "\n",
    "plt.bar(months, mins, alpha = 0.8)\n",
    "plt.bar(months, means, alpha = 0.6)\n",
    "plt.bar(months, maxs, alpha = 0.4)\n",
    "plt.title(\"Monthly precipitation\")\n",
    "plt.ylabel(\"Inches\")\n",
    "plt.legend([\"min\", \"mean\", \"max\"])\n",
    "\n",
    "plt.show()"
   ]
  },
  {
   "cell_type": "markdown",
   "metadata": {},
   "source": [
    "**5.\tWhat was the smallest monthly precipitation value and in which month and year did this occur?**"
   ]
  },
  {
   "cell_type": "code",
   "execution_count": 8,
   "metadata": {},
   "outputs": [
    {
     "name": "stdout",
     "output_type": "stream",
     "text": [
      "The smallest monthly precipitation was 0.58 inches and it occured during 7/2012.\n"
     ]
    }
   ],
   "source": [
    "yearly_mins = bangorprecip.min(0)\n",
    "monthly_mins = bangorprecip.min(1)\n",
    "\n",
    "year = int(years[yearly_mins == yearly_mins.min()])\n",
    "month = int(months[monthly_mins == monthly_mins.min()])\n",
    "min_precip = bangorprecip.min(1).min()\n",
    "\n",
    "print(\"The smallest monthly precipitation was \", min_precip, \n",
    "      \" inches and it occured during \", month,\"/\",year, \".\", sep = \"\")"
   ]
  },
  {
   "cell_type": "markdown",
   "metadata": {},
   "source": [
    "**6. How many months had precipitation amounts greater than 5 inches?**"
   ]
  },
  {
   "cell_type": "code",
   "execution_count": 9,
   "metadata": {},
   "outputs": [
    {
     "name": "stdout",
     "output_type": "stream",
     "text": [
      "26 months had precitipation amounts greater than 5 inches.\n"
     ]
    }
   ],
   "source": [
    "answer = np.sum(bangorprecip > 5)\n",
    "print(answer, \"months had precitipation amounts greater than 5 inches.\")"
   ]
  },
  {
   "cell_type": "markdown",
   "metadata": {},
   "source": [
    "**7. How many months had precipitation greater than zero and less than 1.5 inches? What were these values and in what months and years did they occur?**"
   ]
  },
  {
   "cell_type": "code",
   "execution_count": 10,
   "metadata": {},
   "outputs": [
    {
     "name": "stdout",
     "output_type": "stream",
     "text": [
      "9 months had precipitation greater than 0 and less than 1.5 inches.\n",
      "\n",
      "In 2012 , month(s) [ 3  7 11] had rainfalls of [1.4  0.58 1.13] , respectively.\n",
      "In 2013 , month(s) [ 1 10] had rainfalls of [1.95 6.96] , respectively.\n",
      "In 2014 , month(s) [9] had rainfalls of [6.33] , respectively.\n",
      "In 2015 , month(s) [3 7] had rainfalls of [1.4  0.58] , respectively.\n",
      "In 2016 , month(s) [9] had rainfalls of [6.33] , respectively.\n"
     ]
    }
   ],
   "source": [
    "answer = np.logical_and([bangorprecip > 0], [bangorprecip < 1.5])\n",
    "\n",
    "print(np.sum(answer), \"months had precipitation greater than 0 and less than 1.5 inches.\")\n",
    "print(\"\")\n",
    "\n",
    "for count,val in enumerate(years):\n",
    "    month = months[bangorprecip[:,count] < 1.5]\n",
    "    values = bangorprecip[:,2][bangorprecip[:,count] < 1.5]\n",
    "    if sum(values) != 0:\n",
    "        print(\"In\", years[count], \", month(s)\", month, \n",
    "             \"had rainfalls of\", values, \", respectively.\");"
   ]
  },
  {
   "cell_type": "markdown",
   "metadata": {},
   "source": [
    "**8. How different were monthly precipitation values in 2019 from 2018?**"
   ]
  },
  {
   "cell_type": "code",
   "execution_count": 17,
   "metadata": {},
   "outputs": [
    {
     "data": {
      "image/png": "[encoded data removed]",
      "text/plain": [
       "<Figure size 432x288 with 1 Axes>"
      ]
     },
     "metadata": {},
     "output_type": "display_data"
    }
   ],
   "source": [
    "nineteen = np.concatenate(bangorprecip[:,years == '2019'])\n",
    "eighteen = np.concatenate(bangorprecip[:,years == '2018'])\n",
    "\n",
    "%matplotlib inline\n",
    "plt.style.use('ggplot')\n",
    "\n",
    "plt.bar(months, nineteen, alpha = 0.7)\n",
    "plt.bar(months, eighteen, alpha = 0.7)\n",
    "plt.title(\"Monthly precipitation (2018 vs. 2019)\")\n",
    "plt.ylabel(\"Inches\")\n",
    "plt.legend([\"2019\", \"2018\"])\n",
    "\n",
    "plt.show()"
   ]
  },
  {
   "cell_type": "markdown",
   "metadata": {},
   "source": [
    "**9. Create a heatmap of the 12 x 10 array**"
   ]
  },
  {
   "cell_type": "code",
   "execution_count": 12,
   "metadata": {},
   "outputs": [
    {
     "data": {
      "image/png": "[encoded data removed]",
      "text/plain": [
       "<Figure size 432x288 with 2 Axes>"
      ]
     },
     "metadata": {},
     "output_type": "display_data"
    }
   ],
   "source": [
    "%matplotlib inline\n",
    "plt.style.use('ggplot')\n",
    "\n",
    "imgplot = plt.imshow(bangorprecip, extent=[2010,2019,12,1], aspect='auto', cmap='viridis')\n",
    "plt.colorbar();\n"
   ]
  },
  {
   "cell_type": "markdown",
   "metadata": {},
   "source": [
    "For the data and other notebooks, see [github.com/antoniojurlina/learning_python](https://github.com/antoniojurlina/learning_python)."
   ]
  }
 ],
 "metadata": {
  "kernelspec": {
   "display_name": "Python 3",
   "language": "python",
   "name": "python3"
  },
  "language_info": {
   "codemirror_mode": {
    "name": "ipython",
    "version": 3
   },
   "file_extension": ".py",
   "mimetype": "text/x-python",
   "name": "python",
   "nbconvert_exporter": "python",
   "pygments_lexer": "ipython3",
   "version": "3.8.8"
  }
 },
 "nbformat": 4,
 "nbformat_minor": 4
}
